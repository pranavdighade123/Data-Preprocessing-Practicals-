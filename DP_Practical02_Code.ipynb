{
  "nbformat": 4,
  "nbformat_minor": 0,
  "metadata": {
    "colab": {
      "provenance": [],
      "authorship_tag": "ABX9TyMdJYP1+lepDyIaD7aWBT/T",
      "include_colab_link": true
    },
    "kernelspec": {
      "name": "python3",
      "display_name": "Python 3"
    },
    "language_info": {
      "name": "python"
    }
  },
  "cells": [
    {
      "cell_type": "markdown",
      "metadata": {
        "id": "view-in-github",
        "colab_type": "text"
      },
      "source": [
        "<a href=\"https://colab.research.google.com/github/pranavdighade123/Data-Preprocessing-Practicals-/blob/main/DP_Practical02_Code.ipynb\" target=\"_parent\"><img src=\"https://colab.research.google.com/assets/colab-badge.svg\" alt=\"Open In Colab\"/></a>"
      ]
    },
    {
      "cell_type": "markdown",
      "source": [
        "Title: Find out missing data in Dataset.\n",
        "\n",
        "Aim:\n",
        "1. To understand and apply the Data Pre-processing concept.\n",
        "2. To study detailed Data Pre-processing concept in Python"
      ],
      "metadata": {
        "id": "6DFehw6l0F6n"
      }
    },
    {
      "cell_type": "markdown",
      "source": [
        "Import pandas and numpy and upload dataset  "
      ],
      "metadata": {
        "id": "EJeHziqwvzl1"
      }
    },
    {
      "cell_type": "code",
      "source": [
        "from google.colab import files\n",
        "uploaded = files.upload()"
      ],
      "metadata": {
        "colab": {
          "base_uri": "https://localhost:8080/",
          "height": 74
        },
        "id": "0sfDTKGdQ52r",
        "outputId": "20fad730-946c-4ef2-a72e-53839ed6e264"
      },
      "execution_count": null,
      "outputs": [
        {
          "output_type": "display_data",
          "data": {
            "text/plain": [
              "<IPython.core.display.HTML object>"
            ],
            "text/html": [
              "\n",
              "     <input type=\"file\" id=\"files-999cbd0b-cb35-4454-a495-83ed19d68901\" name=\"files[]\" multiple disabled\n",
              "        style=\"border:none\" />\n",
              "     <output id=\"result-999cbd0b-cb35-4454-a495-83ed19d68901\">\n",
              "      Upload widget is only available when the cell has been executed in the\n",
              "      current browser session. Please rerun this cell to enable.\n",
              "      </output>\n",
              "      <script>// Copyright 2017 Google LLC\n",
              "//\n",
              "// Licensed under the Apache License, Version 2.0 (the \"License\");\n",
              "// you may not use this file except in compliance with the License.\n",
              "// You may obtain a copy of the License at\n",
              "//\n",
              "//      http://www.apache.org/licenses/LICENSE-2.0\n",
              "//\n",
              "// Unless required by applicable law or agreed to in writing, software\n",
              "// distributed under the License is distributed on an \"AS IS\" BASIS,\n",
              "// WITHOUT WARRANTIES OR CONDITIONS OF ANY KIND, either express or implied.\n",
              "// See the License for the specific language governing permissions and\n",
              "// limitations under the License.\n",
              "\n",
              "/**\n",
              " * @fileoverview Helpers for google.colab Python module.\n",
              " */\n",
              "(function(scope) {\n",
              "function span(text, styleAttributes = {}) {\n",
              "  const element = document.createElement('span');\n",
              "  element.textContent = text;\n",
              "  for (const key of Object.keys(styleAttributes)) {\n",
              "    element.style[key] = styleAttributes[key];\n",
              "  }\n",
              "  return element;\n",
              "}\n",
              "\n",
              "// Max number of bytes which will be uploaded at a time.\n",
              "const MAX_PAYLOAD_SIZE = 100 * 1024;\n",
              "\n",
              "function _uploadFiles(inputId, outputId) {\n",
              "  const steps = uploadFilesStep(inputId, outputId);\n",
              "  const outputElement = document.getElementById(outputId);\n",
              "  // Cache steps on the outputElement to make it available for the next call\n",
              "  // to uploadFilesContinue from Python.\n",
              "  outputElement.steps = steps;\n",
              "\n",
              "  return _uploadFilesContinue(outputId);\n",
              "}\n",
              "\n",
              "// This is roughly an async generator (not supported in the browser yet),\n",
              "// where there are multiple asynchronous steps and the Python side is going\n",
              "// to poll for completion of each step.\n",
              "// This uses a Promise to block the python side on completion of each step,\n",
              "// then passes the result of the previous step as the input to the next step.\n",
              "function _uploadFilesContinue(outputId) {\n",
              "  const outputElement = document.getElementById(outputId);\n",
              "  const steps = outputElement.steps;\n",
              "\n",
              "  const next = steps.next(outputElement.lastPromiseValue);\n",
              "  return Promise.resolve(next.value.promise).then((value) => {\n",
              "    // Cache the last promise value to make it available to the next\n",
              "    // step of the generator.\n",
              "    outputElement.lastPromiseValue = value;\n",
              "    return next.value.response;\n",
              "  });\n",
              "}\n",
              "\n",
              "/**\n",
              " * Generator function which is called between each async step of the upload\n",
              " * process.\n",
              " * @param {string} inputId Element ID of the input file picker element.\n",
              " * @param {string} outputId Element ID of the output display.\n",
              " * @return {!Iterable<!Object>} Iterable of next steps.\n",
              " */\n",
              "function* uploadFilesStep(inputId, outputId) {\n",
              "  const inputElement = document.getElementById(inputId);\n",
              "  inputElement.disabled = false;\n",
              "\n",
              "  const outputElement = document.getElementById(outputId);\n",
              "  outputElement.innerHTML = '';\n",
              "\n",
              "  const pickedPromise = new Promise((resolve) => {\n",
              "    inputElement.addEventListener('change', (e) => {\n",
              "      resolve(e.target.files);\n",
              "    });\n",
              "  });\n",
              "\n",
              "  const cancel = document.createElement('button');\n",
              "  inputElement.parentElement.appendChild(cancel);\n",
              "  cancel.textContent = 'Cancel upload';\n",
              "  const cancelPromise = new Promise((resolve) => {\n",
              "    cancel.onclick = () => {\n",
              "      resolve(null);\n",
              "    };\n",
              "  });\n",
              "\n",
              "  // Wait for the user to pick the files.\n",
              "  const files = yield {\n",
              "    promise: Promise.race([pickedPromise, cancelPromise]),\n",
              "    response: {\n",
              "      action: 'starting',\n",
              "    }\n",
              "  };\n",
              "\n",
              "  cancel.remove();\n",
              "\n",
              "  // Disable the input element since further picks are not allowed.\n",
              "  inputElement.disabled = true;\n",
              "\n",
              "  if (!files) {\n",
              "    return {\n",
              "      response: {\n",
              "        action: 'complete',\n",
              "      }\n",
              "    };\n",
              "  }\n",
              "\n",
              "  for (const file of files) {\n",
              "    const li = document.createElement('li');\n",
              "    li.append(span(file.name, {fontWeight: 'bold'}));\n",
              "    li.append(span(\n",
              "        `(${file.type || 'n/a'}) - ${file.size} bytes, ` +\n",
              "        `last modified: ${\n",
              "            file.lastModifiedDate ? file.lastModifiedDate.toLocaleDateString() :\n",
              "                                    'n/a'} - `));\n",
              "    const percent = span('0% done');\n",
              "    li.appendChild(percent);\n",
              "\n",
              "    outputElement.appendChild(li);\n",
              "\n",
              "    const fileDataPromise = new Promise((resolve) => {\n",
              "      const reader = new FileReader();\n",
              "      reader.onload = (e) => {\n",
              "        resolve(e.target.result);\n",
              "      };\n",
              "      reader.readAsArrayBuffer(file);\n",
              "    });\n",
              "    // Wait for the data to be ready.\n",
              "    let fileData = yield {\n",
              "      promise: fileDataPromise,\n",
              "      response: {\n",
              "        action: 'continue',\n",
              "      }\n",
              "    };\n",
              "\n",
              "    // Use a chunked sending to avoid message size limits. See b/62115660.\n",
              "    let position = 0;\n",
              "    do {\n",
              "      const length = Math.min(fileData.byteLength - position, MAX_PAYLOAD_SIZE);\n",
              "      const chunk = new Uint8Array(fileData, position, length);\n",
              "      position += length;\n",
              "\n",
              "      const base64 = btoa(String.fromCharCode.apply(null, chunk));\n",
              "      yield {\n",
              "        response: {\n",
              "          action: 'append',\n",
              "          file: file.name,\n",
              "          data: base64,\n",
              "        },\n",
              "      };\n",
              "\n",
              "      let percentDone = fileData.byteLength === 0 ?\n",
              "          100 :\n",
              "          Math.round((position / fileData.byteLength) * 100);\n",
              "      percent.textContent = `${percentDone}% done`;\n",
              "\n",
              "    } while (position < fileData.byteLength);\n",
              "  }\n",
              "\n",
              "  // All done.\n",
              "  yield {\n",
              "    response: {\n",
              "      action: 'complete',\n",
              "    }\n",
              "  };\n",
              "}\n",
              "\n",
              "scope.google = scope.google || {};\n",
              "scope.google.colab = scope.google.colab || {};\n",
              "scope.google.colab._files = {\n",
              "  _uploadFiles,\n",
              "  _uploadFilesContinue,\n",
              "};\n",
              "})(self);\n",
              "</script> "
            ]
          },
          "metadata": {}
        },
        {
          "output_type": "stream",
          "name": "stdout",
          "text": [
            "Saving melb_data.csv to melb_data.csv\n"
          ]
        }
      ]
    },
    {
      "cell_type": "code",
      "execution_count": null,
      "metadata": {
        "colab": {
          "base_uri": "https://localhost:8080/"
        },
        "id": "nNMrpLw1vPUm",
        "outputId": "69b7c9d2-64ec-4d61-cff0-9f0be0fdb9da"
      },
      "outputs": [
        {
          "output_type": "stream",
          "name": "stdout",
          "text": [
            "              Suburb           Address  Rooms Type      Price Method  \\\n",
            "0         Abbotsford      85 Turner St      2    h  1480000.0      S   \n",
            "1         Abbotsford   25 Bloomburg St      2    h  1035000.0      S   \n",
            "2         Abbotsford      5 Charles St      3    h  1465000.0     SP   \n",
            "3         Abbotsford  40 Federation La      3    h   850000.0     PI   \n",
            "4         Abbotsford       55a Park St      4    h  1600000.0     VB   \n",
            "...              ...               ...    ...  ...        ...    ...   \n",
            "13575  Wheelers Hill      12 Strada Cr      4    h  1245000.0      S   \n",
            "13576   Williamstown     77 Merrett Dr      3    h  1031000.0     SP   \n",
            "13577   Williamstown       83 Power St      3    h  1170000.0      S   \n",
            "13578   Williamstown      96 Verdon St      4    h  2500000.0     PI   \n",
            "13579     Yarraville        6 Agnes St      4    h  1285000.0     SP   \n",
            "\n",
            "        SellerG        Date  Distance  Postcode  ...  Bathroom  Car  Landsize  \\\n",
            "0        Biggin   3/12/2016       2.5    3067.0  ...       1.0  1.0     202.0   \n",
            "1        Biggin   4/02/2016       2.5    3067.0  ...       1.0  0.0     156.0   \n",
            "2        Biggin   4/03/2017       2.5    3067.0  ...       2.0  0.0     134.0   \n",
            "3        Biggin   4/03/2017       2.5    3067.0  ...       2.0  1.0      94.0   \n",
            "4        Nelson   4/06/2016       2.5    3067.0  ...       1.0  2.0     120.0   \n",
            "...         ...         ...       ...       ...  ...       ...  ...       ...   \n",
            "13575     Barry  26/08/2017      16.7    3150.0  ...       2.0  2.0     652.0   \n",
            "13576  Williams  26/08/2017       6.8    3016.0  ...       2.0  2.0     333.0   \n",
            "13577     Raine  26/08/2017       6.8    3016.0  ...       2.0  4.0     436.0   \n",
            "13578   Sweeney  26/08/2017       6.8    3016.0  ...       1.0  5.0     866.0   \n",
            "13579   Village  26/08/2017       6.3    3013.0  ...       1.0  1.0     362.0   \n",
            "\n",
            "       BuildingArea  YearBuilt  CouncilArea Lattitude  Longtitude  \\\n",
            "0               NaN        NaN        Yarra -37.79960   144.99840   \n",
            "1              79.0     1900.0        Yarra -37.80790   144.99340   \n",
            "2             150.0     1900.0        Yarra -37.80930   144.99440   \n",
            "3               NaN        NaN        Yarra -37.79690   144.99690   \n",
            "4             142.0     2014.0        Yarra -37.80720   144.99410   \n",
            "...             ...        ...          ...       ...         ...   \n",
            "13575           NaN     1981.0          NaN -37.90562   145.16761   \n",
            "13576         133.0     1995.0          NaN -37.85927   144.87904   \n",
            "13577           NaN     1997.0          NaN -37.85274   144.88738   \n",
            "13578         157.0     1920.0          NaN -37.85908   144.89299   \n",
            "13579         112.0     1920.0          NaN -37.81188   144.88449   \n",
            "\n",
            "                       Regionname Propertycount  \n",
            "0           Northern Metropolitan        4019.0  \n",
            "1           Northern Metropolitan        4019.0  \n",
            "2           Northern Metropolitan        4019.0  \n",
            "3           Northern Metropolitan        4019.0  \n",
            "4           Northern Metropolitan        4019.0  \n",
            "...                           ...           ...  \n",
            "13575  South-Eastern Metropolitan        7392.0  \n",
            "13576        Western Metropolitan        6380.0  \n",
            "13577        Western Metropolitan        6380.0  \n",
            "13578        Western Metropolitan        6380.0  \n",
            "13579        Western Metropolitan        6543.0  \n",
            "\n",
            "[13580 rows x 21 columns]\n"
          ]
        }
      ],
      "source": [
        "import pandas as pd \n",
        "import numpy as np\n",
        "\n",
        "df = pd.read_csv('melb_data.csv')\n",
        "print(df)"
      ]
    },
    {
      "cell_type": "markdown",
      "source": [
        "--------------------------------------------------------------------------------"
      ],
      "metadata": {
        "id": "D7EjyQSPwZhR"
      }
    },
    {
      "cell_type": "markdown",
      "source": [
        "Checking null entity in dataset using isnull function "
      ],
      "metadata": {
        "id": "lVjGaex1v6ZB"
      }
    },
    {
      "cell_type": "code",
      "source": [
        "print(df.isnull)"
      ],
      "metadata": {
        "colab": {
          "base_uri": "https://localhost:8080/"
        },
        "id": "x4Iw5I2yvceT",
        "outputId": "9a22fdbc-c709-439b-caad-39876d1af47b"
      },
      "execution_count": null,
      "outputs": [
        {
          "output_type": "stream",
          "name": "stdout",
          "text": [
            "<bound method DataFrame.isnull of               Suburb           Address  Rooms Type      Price Method  \\\n",
            "0         Abbotsford      85 Turner St      2    h  1480000.0      S   \n",
            "1         Abbotsford   25 Bloomburg St      2    h  1035000.0      S   \n",
            "2         Abbotsford      5 Charles St      3    h  1465000.0     SP   \n",
            "3         Abbotsford  40 Federation La      3    h   850000.0     PI   \n",
            "4         Abbotsford       55a Park St      4    h  1600000.0     VB   \n",
            "...              ...               ...    ...  ...        ...    ...   \n",
            "13575  Wheelers Hill      12 Strada Cr      4    h  1245000.0      S   \n",
            "13576   Williamstown     77 Merrett Dr      3    h  1031000.0     SP   \n",
            "13577   Williamstown       83 Power St      3    h  1170000.0      S   \n",
            "13578   Williamstown      96 Verdon St      4    h  2500000.0     PI   \n",
            "13579     Yarraville        6 Agnes St      4    h  1285000.0     SP   \n",
            "\n",
            "        SellerG        Date  Distance  Postcode  ...  Bathroom  Car  Landsize  \\\n",
            "0        Biggin   3/12/2016       2.5    3067.0  ...       1.0  1.0     202.0   \n",
            "1        Biggin   4/02/2016       2.5    3067.0  ...       1.0  0.0     156.0   \n",
            "2        Biggin   4/03/2017       2.5    3067.0  ...       2.0  0.0     134.0   \n",
            "3        Biggin   4/03/2017       2.5    3067.0  ...       2.0  1.0      94.0   \n",
            "4        Nelson   4/06/2016       2.5    3067.0  ...       1.0  2.0     120.0   \n",
            "...         ...         ...       ...       ...  ...       ...  ...       ...   \n",
            "13575     Barry  26/08/2017      16.7    3150.0  ...       2.0  2.0     652.0   \n",
            "13576  Williams  26/08/2017       6.8    3016.0  ...       2.0  2.0     333.0   \n",
            "13577     Raine  26/08/2017       6.8    3016.0  ...       2.0  4.0     436.0   \n",
            "13578   Sweeney  26/08/2017       6.8    3016.0  ...       1.0  5.0     866.0   \n",
            "13579   Village  26/08/2017       6.3    3013.0  ...       1.0  1.0     362.0   \n",
            "\n",
            "       BuildingArea  YearBuilt  CouncilArea Lattitude  Longtitude  \\\n",
            "0               NaN        NaN        Yarra -37.79960   144.99840   \n",
            "1              79.0     1900.0        Yarra -37.80790   144.99340   \n",
            "2             150.0     1900.0        Yarra -37.80930   144.99440   \n",
            "3               NaN        NaN        Yarra -37.79690   144.99690   \n",
            "4             142.0     2014.0        Yarra -37.80720   144.99410   \n",
            "...             ...        ...          ...       ...         ...   \n",
            "13575           NaN     1981.0          NaN -37.90562   145.16761   \n",
            "13576         133.0     1995.0          NaN -37.85927   144.87904   \n",
            "13577           NaN     1997.0          NaN -37.85274   144.88738   \n",
            "13578         157.0     1920.0          NaN -37.85908   144.89299   \n",
            "13579         112.0     1920.0          NaN -37.81188   144.88449   \n",
            "\n",
            "                       Regionname Propertycount  \n",
            "0           Northern Metropolitan        4019.0  \n",
            "1           Northern Metropolitan        4019.0  \n",
            "2           Northern Metropolitan        4019.0  \n",
            "3           Northern Metropolitan        4019.0  \n",
            "4           Northern Metropolitan        4019.0  \n",
            "...                           ...           ...  \n",
            "13575  South-Eastern Metropolitan        7392.0  \n",
            "13576        Western Metropolitan        6380.0  \n",
            "13577        Western Metropolitan        6380.0  \n",
            "13578        Western Metropolitan        6380.0  \n",
            "13579        Western Metropolitan        6543.0  \n",
            "\n",
            "[13580 rows x 21 columns]>\n"
          ]
        }
      ]
    },
    {
      "cell_type": "markdown",
      "source": [
        "--------------------------------------------------------------------------------"
      ],
      "metadata": {
        "id": "d1uMohImwcsK"
      }
    },
    {
      "cell_type": "markdown",
      "source": [
        "Checking null entity in dataset using notnull function ."
      ],
      "metadata": {
        "id": "u_Vim66Lv_66"
      }
    },
    {
      "cell_type": "code",
      "source": [
        "print(df.notnull)"
      ],
      "metadata": {
        "colab": {
          "base_uri": "https://localhost:8080/"
        },
        "id": "gWlMe7HzvhG-",
        "outputId": "7298be22-d178-4308-ac8c-2a26337c5ebb"
      },
      "execution_count": null,
      "outputs": [
        {
          "output_type": "stream",
          "name": "stdout",
          "text": [
            "<bound method DataFrame.notnull of               Suburb           Address  Rooms Type      Price Method  \\\n",
            "0         Abbotsford      85 Turner St      2    h  1480000.0      S   \n",
            "1         Abbotsford   25 Bloomburg St      2    h  1035000.0      S   \n",
            "2         Abbotsford      5 Charles St      3    h  1465000.0     SP   \n",
            "3         Abbotsford  40 Federation La      3    h   850000.0     PI   \n",
            "4         Abbotsford       55a Park St      4    h  1600000.0     VB   \n",
            "...              ...               ...    ...  ...        ...    ...   \n",
            "13575  Wheelers Hill      12 Strada Cr      4    h  1245000.0      S   \n",
            "13576   Williamstown     77 Merrett Dr      3    h  1031000.0     SP   \n",
            "13577   Williamstown       83 Power St      3    h  1170000.0      S   \n",
            "13578   Williamstown      96 Verdon St      4    h  2500000.0     PI   \n",
            "13579     Yarraville        6 Agnes St      4    h  1285000.0     SP   \n",
            "\n",
            "        SellerG        Date  Distance  Postcode  ...  Bathroom  Car  Landsize  \\\n",
            "0        Biggin   3/12/2016       2.5    3067.0  ...       1.0  1.0     202.0   \n",
            "1        Biggin   4/02/2016       2.5    3067.0  ...       1.0  0.0     156.0   \n",
            "2        Biggin   4/03/2017       2.5    3067.0  ...       2.0  0.0     134.0   \n",
            "3        Biggin   4/03/2017       2.5    3067.0  ...       2.0  1.0      94.0   \n",
            "4        Nelson   4/06/2016       2.5    3067.0  ...       1.0  2.0     120.0   \n",
            "...         ...         ...       ...       ...  ...       ...  ...       ...   \n",
            "13575     Barry  26/08/2017      16.7    3150.0  ...       2.0  2.0     652.0   \n",
            "13576  Williams  26/08/2017       6.8    3016.0  ...       2.0  2.0     333.0   \n",
            "13577     Raine  26/08/2017       6.8    3016.0  ...       2.0  4.0     436.0   \n",
            "13578   Sweeney  26/08/2017       6.8    3016.0  ...       1.0  5.0     866.0   \n",
            "13579   Village  26/08/2017       6.3    3013.0  ...       1.0  1.0     362.0   \n",
            "\n",
            "       BuildingArea  YearBuilt  CouncilArea Lattitude  Longtitude  \\\n",
            "0               NaN        NaN        Yarra -37.79960   144.99840   \n",
            "1              79.0     1900.0        Yarra -37.80790   144.99340   \n",
            "2             150.0     1900.0        Yarra -37.80930   144.99440   \n",
            "3               NaN        NaN        Yarra -37.79690   144.99690   \n",
            "4             142.0     2014.0        Yarra -37.80720   144.99410   \n",
            "...             ...        ...          ...       ...         ...   \n",
            "13575           NaN     1981.0          NaN -37.90562   145.16761   \n",
            "13576         133.0     1995.0          NaN -37.85927   144.87904   \n",
            "13577           NaN     1997.0          NaN -37.85274   144.88738   \n",
            "13578         157.0     1920.0          NaN -37.85908   144.89299   \n",
            "13579         112.0     1920.0          NaN -37.81188   144.88449   \n",
            "\n",
            "                       Regionname Propertycount  \n",
            "0           Northern Metropolitan        4019.0  \n",
            "1           Northern Metropolitan        4019.0  \n",
            "2           Northern Metropolitan        4019.0  \n",
            "3           Northern Metropolitan        4019.0  \n",
            "4           Northern Metropolitan        4019.0  \n",
            "...                           ...           ...  \n",
            "13575  South-Eastern Metropolitan        7392.0  \n",
            "13576        Western Metropolitan        6380.0  \n",
            "13577        Western Metropolitan        6380.0  \n",
            "13578        Western Metropolitan        6380.0  \n",
            "13579        Western Metropolitan        6543.0  \n",
            "\n",
            "[13580 rows x 21 columns]>\n"
          ]
        }
      ]
    },
    {
      "cell_type": "markdown",
      "source": [
        "--------------------------------------------------------------------------------"
      ],
      "metadata": {
        "id": "-HZXsPgpwelq"
      }
    },
    {
      "cell_type": "markdown",
      "source": [
        "replacing blank entity with 0 using fillna function"
      ],
      "metadata": {
        "id": "ZFrnA7qMwFgH"
      }
    },
    {
      "cell_type": "code",
      "source": [
        "print(df.fillna(0))"
      ],
      "metadata": {
        "colab": {
          "base_uri": "https://localhost:8080/"
        },
        "id": "GUwjnpZOvshI",
        "outputId": "12d96b0d-2bd4-4312-9aa3-c2bab305b46c"
      },
      "execution_count": null,
      "outputs": [
        {
          "output_type": "stream",
          "name": "stdout",
          "text": [
            "              Suburb           Address  Rooms Type      Price Method  \\\n",
            "0         Abbotsford      85 Turner St      2    h  1480000.0      S   \n",
            "1         Abbotsford   25 Bloomburg St      2    h  1035000.0      S   \n",
            "2         Abbotsford      5 Charles St      3    h  1465000.0     SP   \n",
            "3         Abbotsford  40 Federation La      3    h   850000.0     PI   \n",
            "4         Abbotsford       55a Park St      4    h  1600000.0     VB   \n",
            "...              ...               ...    ...  ...        ...    ...   \n",
            "13575  Wheelers Hill      12 Strada Cr      4    h  1245000.0      S   \n",
            "13576   Williamstown     77 Merrett Dr      3    h  1031000.0     SP   \n",
            "13577   Williamstown       83 Power St      3    h  1170000.0      S   \n",
            "13578   Williamstown      96 Verdon St      4    h  2500000.0     PI   \n",
            "13579     Yarraville        6 Agnes St      4    h  1285000.0     SP   \n",
            "\n",
            "        SellerG        Date  Distance  Postcode  ...  Bathroom  Car  Landsize  \\\n",
            "0        Biggin   3/12/2016       2.5    3067.0  ...       1.0  1.0     202.0   \n",
            "1        Biggin   4/02/2016       2.5    3067.0  ...       1.0  0.0     156.0   \n",
            "2        Biggin   4/03/2017       2.5    3067.0  ...       2.0  0.0     134.0   \n",
            "3        Biggin   4/03/2017       2.5    3067.0  ...       2.0  1.0      94.0   \n",
            "4        Nelson   4/06/2016       2.5    3067.0  ...       1.0  2.0     120.0   \n",
            "...         ...         ...       ...       ...  ...       ...  ...       ...   \n",
            "13575     Barry  26/08/2017      16.7    3150.0  ...       2.0  2.0     652.0   \n",
            "13576  Williams  26/08/2017       6.8    3016.0  ...       2.0  2.0     333.0   \n",
            "13577     Raine  26/08/2017       6.8    3016.0  ...       2.0  4.0     436.0   \n",
            "13578   Sweeney  26/08/2017       6.8    3016.0  ...       1.0  5.0     866.0   \n",
            "13579   Village  26/08/2017       6.3    3013.0  ...       1.0  1.0     362.0   \n",
            "\n",
            "       BuildingArea  YearBuilt  CouncilArea Lattitude  Longtitude  \\\n",
            "0               0.0        0.0        Yarra -37.79960   144.99840   \n",
            "1              79.0     1900.0        Yarra -37.80790   144.99340   \n",
            "2             150.0     1900.0        Yarra -37.80930   144.99440   \n",
            "3               0.0        0.0        Yarra -37.79690   144.99690   \n",
            "4             142.0     2014.0        Yarra -37.80720   144.99410   \n",
            "...             ...        ...          ...       ...         ...   \n",
            "13575           0.0     1981.0            0 -37.90562   145.16761   \n",
            "13576         133.0     1995.0            0 -37.85927   144.87904   \n",
            "13577           0.0     1997.0            0 -37.85274   144.88738   \n",
            "13578         157.0     1920.0            0 -37.85908   144.89299   \n",
            "13579         112.0     1920.0            0 -37.81188   144.88449   \n",
            "\n",
            "                       Regionname Propertycount  \n",
            "0           Northern Metropolitan        4019.0  \n",
            "1           Northern Metropolitan        4019.0  \n",
            "2           Northern Metropolitan        4019.0  \n",
            "3           Northern Metropolitan        4019.0  \n",
            "4           Northern Metropolitan        4019.0  \n",
            "...                           ...           ...  \n",
            "13575  South-Eastern Metropolitan        7392.0  \n",
            "13576        Western Metropolitan        6380.0  \n",
            "13577        Western Metropolitan        6380.0  \n",
            "13578        Western Metropolitan        6380.0  \n",
            "13579        Western Metropolitan        6543.0  \n",
            "\n",
            "[13580 rows x 21 columns]\n"
          ]
        }
      ]
    },
    {
      "cell_type": "markdown",
      "source": [
        "--------------------------------------------------------------------------------"
      ],
      "metadata": {
        "id": "OKQqLgRJwf1M"
      }
    },
    {
      "cell_type": "markdown",
      "source": [
        "Droping row having null elements using dropna function."
      ],
      "metadata": {
        "id": "S11cv16JwN8G"
      }
    },
    {
      "cell_type": "code",
      "source": [
        "print(df.dropna())"
      ],
      "metadata": {
        "colab": {
          "base_uri": "https://localhost:8080/"
        },
        "id": "FfDNhrLSviju",
        "outputId": "77d90cf5-e79e-4ed3-9e03-a7062099c068"
      },
      "execution_count": null,
      "outputs": [
        {
          "output_type": "stream",
          "name": "stdout",
          "text": [
            "             Suburb          Address  Rooms Type      Price Method  \\\n",
            "1        Abbotsford  25 Bloomburg St      2    h  1035000.0      S   \n",
            "2        Abbotsford     5 Charles St      3    h  1465000.0     SP   \n",
            "4        Abbotsford      55a Park St      4    h  1600000.0     VB   \n",
            "6        Abbotsford     124 Yarra St      3    h  1876000.0      S   \n",
            "7        Abbotsford    98 Charles St      2    h  1636000.0      S   \n",
            "...             ...              ...    ...  ...        ...    ...   \n",
            "12205    Whittlesea    30 Sherwin St      3    h   601000.0      S   \n",
            "12206  Williamstown      75 Cecil St      3    h  1050000.0     VB   \n",
            "12207  Williamstown    2/29 Dover Rd      1    u   385000.0     SP   \n",
            "12209       Windsor  201/152 Peel St      2    u   560000.0     PI   \n",
            "12212    Yarraville  54 Pentland Pde      6    h  2450000.0     VB   \n",
            "\n",
            "             SellerG        Date  Distance  Postcode  ...  Bathroom  Car  \\\n",
            "1             Biggin   4/02/2016       2.5    3067.0  ...       1.0  0.0   \n",
            "2             Biggin   4/03/2017       2.5    3067.0  ...       2.0  0.0   \n",
            "4             Nelson   4/06/2016       2.5    3067.0  ...       1.0  2.0   \n",
            "6             Nelson   7/05/2016       2.5    3067.0  ...       2.0  0.0   \n",
            "7             Nelson   8/10/2016       2.5    3067.0  ...       1.0  2.0   \n",
            "...              ...         ...       ...       ...  ...       ...  ...   \n",
            "12205            Ray  29/07/2017      35.5    3757.0  ...       2.0  1.0   \n",
            "12206       Williams  29/07/2017       6.8    3016.0  ...       1.0  0.0   \n",
            "12207       Williams  29/07/2017       6.8    3016.0  ...       1.0  1.0   \n",
            "12209  hockingstuart  29/07/2017       4.6    3181.0  ...       1.0  1.0   \n",
            "12212        Village  29/07/2017       6.3    3013.0  ...       3.0  2.0   \n",
            "\n",
            "       Landsize  BuildingArea  YearBuilt  CouncilArea Lattitude  Longtitude  \\\n",
            "1         156.0         79.00     1900.0        Yarra -37.80790   144.99340   \n",
            "2         134.0        150.00     1900.0        Yarra -37.80930   144.99440   \n",
            "4         120.0        142.00     2014.0        Yarra -37.80720   144.99410   \n",
            "6         245.0        210.00     1910.0        Yarra -37.80240   144.99930   \n",
            "7         256.0        107.00     1890.0        Yarra -37.80600   144.99540   \n",
            "...         ...           ...        ...          ...       ...         ...   \n",
            "12205     972.0        149.00     1996.0   Whittlesea -37.51232   145.13282   \n",
            "12206     179.0        115.00     1890.0  Hobsons Bay -37.86558   144.90474   \n",
            "12207       0.0         35.64     1967.0  Hobsons Bay -37.85588   144.89936   \n",
            "12209       0.0         61.60     2012.0  Stonnington -37.85581   144.99025   \n",
            "12212    1087.0        388.50     1920.0  Maribyrnong -37.81038   144.89389   \n",
            "\n",
            "                  Regionname Propertycount  \n",
            "1      Northern Metropolitan        4019.0  \n",
            "2      Northern Metropolitan        4019.0  \n",
            "4      Northern Metropolitan        4019.0  \n",
            "6      Northern Metropolitan        4019.0  \n",
            "7      Northern Metropolitan        4019.0  \n",
            "...                      ...           ...  \n",
            "12205      Northern Victoria        2170.0  \n",
            "12206   Western Metropolitan        6380.0  \n",
            "12207   Western Metropolitan        6380.0  \n",
            "12209  Southern Metropolitan        4380.0  \n",
            "12212   Western Metropolitan        6543.0  \n",
            "\n",
            "[6196 rows x 21 columns]\n"
          ]
        }
      ]
    }
  ]
}