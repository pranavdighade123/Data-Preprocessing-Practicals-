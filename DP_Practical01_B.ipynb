{
  "nbformat": 4,
  "nbformat_minor": 0,
  "metadata": {
    "colab": {
      "provenance": [],
      "authorship_tag": "ABX9TyNS4MPpc6zb3G9EWLmlTrkR",
      "include_colab_link": true
    },
    "kernelspec": {
      "name": "python3",
      "display_name": "Python 3"
    },
    "language_info": {
      "name": "python"
    }
  },
  "cells": [
    {
      "cell_type": "markdown",
      "metadata": {
        "id": "view-in-github",
        "colab_type": "text"
      },
      "source": [
        "<a href=\"https://colab.research.google.com/github/pranavdighade123/Data-Preprocessing-Practicals-/blob/main/DP_Practical_01_Code_B.ipynb\" target=\"_parent\"><img src=\"https://colab.research.google.com/assets/colab-badge.svg\" alt=\"Open In Colab\"/></a>"
      ]
    },
    {
      "cell_type": "markdown",
      "source": [
        "Title: Implementation of Basic Python Libraries.\n",
        "\n",
        "Aim:\n",
        "1. To understand and apply the Analytical concept of Python.\n",
        "2. To study Basic Python Libraries used for machine learning & data science.\n"
      ],
      "metadata": {
        "id": "c5ffbMblzcE0"
      }
    },
    {
      "cell_type": "markdown",
      "source": [
        "Import Pandas and Create dictionary and print that dictionary using pandas library. "
      ],
      "metadata": {
        "id": "Z89HUXoPs1v3"
      }
    },
    {
      "cell_type": "code",
      "execution_count": null,
      "metadata": {
        "colab": {
          "base_uri": "https://localhost:8080/"
        },
        "id": "LNjLaZTasv4_",
        "outputId": "a24059a6-dead-453a-82fa-2546d4c71632"
      },
      "outputs": [
        {
          "output_type": "stream",
          "name": "stdout",
          "text": [
            "    Names  Ages\n",
            "0  Pranav    20\n",
            "1     Ram    19\n",
            "2    Sham    20\n",
            "3  Johnny    20\n"
          ]
        }
      ],
      "source": [
        "import pandas as pd \n",
        "\n",
        "mydict = {\n",
        "    \n",
        "    \"Names\": [\"Pranav\",\n",
        "              \"Ram\",\n",
        "              \"Sham\",\n",
        "              \"Johnny\"              \n",
        "             ],\n",
        "          \n",
        "    \"Ages\": [ 20,\n",
        "              19,\n",
        "              20,\n",
        "              20      \n",
        "\n",
        "            ]\n",
        "}\n",
        "\n",
        "df = pd.DataFrame(mydict)\n",
        "\n",
        "print(df)"
      ]
    }
  ]
}
