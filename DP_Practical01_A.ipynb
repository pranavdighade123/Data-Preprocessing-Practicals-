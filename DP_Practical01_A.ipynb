{
  "nbformat": 4,
  "nbformat_minor": 0,
  "metadata": {
    "colab": {
      "provenance": [],
      "authorship_tag": "ABX9TyP1L/QeeVvnejAHR023feID",
      "include_colab_link": true
    },
    "kernelspec": {
      "name": "python3",
      "display_name": "Python 3"
    },
    "language_info": {
      "name": "python"
    }
  },
  "cells": [
    {
      "cell_type": "markdown",
      "metadata": {
        "id": "view-in-github",
        "colab_type": "text"
      },
      "source": [
        "<a href=\"https://colab.research.google.com/github/pranavdighade123/Data-Preprocessing-Practicals-/blob/main/DP_Practical01_Code_A_.ipynb\" target=\"_parent\"><img src=\"https://colab.research.google.com/assets/colab-badge.svg\" alt=\"Open In Colab\"/></a>"
      ]
    },
    {
      "cell_type": "markdown",
      "source": [
        "Title: Implementation of Basic Python Libraries.\n",
        "\n",
        "Aim:\n",
        "1. To understand and apply the Analytical concept of Python.\n",
        "2. To study Basic Python Libraries used for machine learning & data science.\n"
      ],
      "metadata": {
        "id": "e0XqFN7PzGdW"
      }
    },
    {
      "cell_type": "markdown",
      "source": [
        "Importing numpy and Create 2 Arrays "
      ],
      "metadata": {
        "id": "mBdN5V3goo4A"
      }
    },
    {
      "cell_type": "code",
      "execution_count": null,
      "metadata": {
        "colab": {
          "base_uri": "https://localhost:8080/"
        },
        "id": "N_rQDOEbnpO4",
        "outputId": "abcb6ab8-9878-40c5-e974-fb2f21a6c1b2"
      },
      "outputs": [
        {
          "output_type": "stream",
          "name": "stdout",
          "text": [
            "This is first array        [1 2 3 4 5] \n",
            "and this is another array  [5 4 3 2 1]\n"
          ]
        }
      ],
      "source": [
        "import numpy as np\n",
        "\n",
        "myarray1 = np.array([1,2,3,4,5])\n",
        "\n",
        "myarray2 = np.array([5,4,3,2,1])\n",
        "\n",
        "print(\"This is first array       \", myarray1, \"\\nand this is another array \", myarray2)"
      ]
    },
    {
      "cell_type": "markdown",
      "source": [
        "--------------------------------------------------------------------------------"
      ],
      "metadata": {
        "id": "t9akFQ4kqac2"
      }
    },
    {
      "cell_type": "markdown",
      "source": [
        "Calculating dot product of two array using numpy library."
      ],
      "metadata": {
        "id": "wKZEwfBXo-BI"
      }
    },
    {
      "cell_type": "code",
      "source": [
        "print(np.dot(myarray1, myarray2))"
      ],
      "metadata": {
        "colab": {
          "base_uri": "https://localhost:8080/"
        },
        "id": "BczG1qfToAL8",
        "outputId": "6d299387-ea37-478d-e02e-24505fbd9039"
      },
      "execution_count": null,
      "outputs": [
        {
          "output_type": "stream",
          "name": "stdout",
          "text": [
            "35\n"
          ]
        }
      ]
    },
    {
      "cell_type": "markdown",
      "source": [
        "--------------------------------------------------------------------------------"
      ],
      "metadata": {
        "id": "9z8NOpk-qeJN"
      }
    },
    {
      "cell_type": "markdown",
      "source": [
        "Creating Array by usning numpy library."
      ],
      "metadata": {
        "id": "XMGLeuq7pccM"
      }
    },
    {
      "cell_type": "code",
      "source": [
        "print(np.arange(11))"
      ],
      "metadata": {
        "colab": {
          "base_uri": "https://localhost:8080/"
        },
        "id": "Qr0qy6TIoHXe",
        "outputId": "ca037d78-49e1-4c09-ebef-3be57ae1192c"
      },
      "execution_count": null,
      "outputs": [
        {
          "output_type": "stream",
          "name": "stdout",
          "text": [
            "[ 0  1  2  3  4  5  6  7  8  9 10]\n"
          ]
        }
      ]
    },
    {
      "cell_type": "markdown",
      "source": [
        "--------------------------------------------------------------------------------"
      ],
      "metadata": {
        "id": "SR3OSnB0qgMu"
      }
    },
    {
      "cell_type": "markdown",
      "source": [
        "Adding two numbers using numpy library. "
      ],
      "metadata": {
        "id": "qT90HjTbpn0o"
      }
    },
    {
      "cell_type": "code",
      "source": [
        "print(np.add(100,20))"
      ],
      "metadata": {
        "colab": {
          "base_uri": "https://localhost:8080/"
        },
        "id": "wIptq3JqoIcE",
        "outputId": "4f944f3b-e9b0-426c-81b9-6070924d18a6"
      },
      "execution_count": null,
      "outputs": [
        {
          "output_type": "stream",
          "name": "stdout",
          "text": [
            "120\n"
          ]
        }
      ]
    },
    {
      "cell_type": "markdown",
      "source": [
        "--------------------------------------------------------------------------------"
      ],
      "metadata": {
        "id": "rGNVbYwZqhYC"
      }
    },
    {
      "cell_type": "markdown",
      "source": [
        "Calculating Maximum number in given array using numpy library. "
      ],
      "metadata": {
        "id": "UOEw2KQsptqc"
      }
    },
    {
      "cell_type": "code",
      "source": [
        "print(np.max(myarray2))"
      ],
      "metadata": {
        "colab": {
          "base_uri": "https://localhost:8080/"
        },
        "id": "Ebea2vq9oMMw",
        "outputId": "12ceb351-45d0-4962-f4bd-21454e43359c"
      },
      "execution_count": null,
      "outputs": [
        {
          "output_type": "stream",
          "name": "stdout",
          "text": [
            "5\n"
          ]
        }
      ]
    },
    {
      "cell_type": "markdown",
      "source": [
        "--------------------------------------------------------------------------------"
      ],
      "metadata": {
        "id": "tiHbcVfEqiRE"
      }
    },
    {
      "cell_type": "markdown",
      "source": [
        "Calculating Minnimum number in given array using numpy library. "
      ],
      "metadata": {
        "id": "Js7A3ALxp0yy"
      }
    },
    {
      "cell_type": "code",
      "source": [
        "print(np.min(myarray1))"
      ],
      "metadata": {
        "colab": {
          "base_uri": "https://localhost:8080/"
        },
        "id": "ef1UkdNhoN1D",
        "outputId": "11404d58-bb80-48ea-8496-28ba668c4ed0"
      },
      "execution_count": null,
      "outputs": [
        {
          "output_type": "stream",
          "name": "stdout",
          "text": [
            "1\n"
          ]
        }
      ]
    }
  ]
}
