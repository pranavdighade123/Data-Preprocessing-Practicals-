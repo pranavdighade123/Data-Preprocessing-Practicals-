{
  "nbformat": 4,
  "nbformat_minor": 0,
  "metadata": {
    "colab": {
      "provenance": [],
      "authorship_tag": "ABX9TyNITbLyv1BIBRnOfSYxHQov",
      "include_colab_link": true
    },
    "kernelspec": {
      "name": "python3",
      "display_name": "Python 3"
    },
    "language_info": {
      "name": "python"
    }
  },
  "cells": [
    {
      "cell_type": "markdown",
      "metadata": {
        "id": "view-in-github",
        "colab_type": "text"
      },
      "source": [
        "<a href=\"https://colab.research.google.com/github/pranavdighade123/Data-Preprocessing-Practicals-/blob/main/DP_Practical01_Code_C.ipynb\" target=\"_parent\"><img src=\"https://colab.research.google.com/assets/colab-badge.svg\" alt=\"Open In Colab\"/></a>"
      ]
    },
    {
      "cell_type": "markdown",
      "source": [
        "Title: Implementation of Basic Python Libraries.\n",
        "\n",
        "Aim:\n",
        "1. To understand and apply the Analytical concept of Python.\n",
        "2. To study Basic Python Libraries used for machine learning & data science.\n"
      ],
      "metadata": {
        "id": "xMFt4wNHztPZ"
      }
    },
    {
      "cell_type": "markdown",
      "source": [
        "Importing pyplot library from matplotlib to print given dictionary in graphical way."
      ],
      "metadata": {
        "id": "yHqBjBRquDCm"
      }
    },
    {
      "cell_type": "code",
      "execution_count": null,
      "metadata": {
        "colab": {
          "base_uri": "https://localhost:8080/",
          "height": 265
        },
        "id": "5JdFaigqtSef",
        "outputId": "7af2a57b-ddbd-4caa-e603-5ed6227506eb"
      },
      "outputs": [
        {
          "output_type": "display_data",
          "data": {
            "text/plain": [
              "<Figure size 432x288 with 1 Axes>"
            ],
            "image/png": "[encoded data removed]"
          },
          "metadata": {
            "needs_background": "light"
          }
        }
      ],
      "source": [
        "from matplotlib import pyplot as plt\n",
        "import pandas as pd \n",
        "\n",
        "mydict = {\n",
        "    \n",
        "    \"Names\": [\"Pranav\",\n",
        "              \"Ram\",\n",
        "              \"Sham\",\n",
        "              \"Johnny\"              \n",
        "             ],\n",
        "          \n",
        "    \"Ages\": [ 20,\n",
        "              19,\n",
        "              20,\n",
        "              20      \n",
        "\n",
        "            ]\n",
        "}\n",
        "\n",
        "df = pd.DataFrame(mydict)\n",
        "plt.plot(df[\"Ages\"])\n",
        "plt.show()"
      ]
    }
  ]
}
