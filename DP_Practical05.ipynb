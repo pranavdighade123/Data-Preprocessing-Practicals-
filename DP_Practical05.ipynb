{
  "nbformat": 4,
  "nbformat_minor": 0,
  "metadata": {
    "colab": {
      "provenance": [],
      "authorship_tag": "ABX9TyNEzc4MaENW9RPxlJYmogZi",
      "include_colab_link": true
    },
    "kernelspec": {
      "name": "python3",
      "display_name": "Python 3"
    },
    "language_info": {
      "name": "python"
    }
  },
  "cells": [
    {
      "cell_type": "markdown",
      "metadata": {
        "id": "view-in-github",
        "colab_type": "text"
      },
      "source": [
        "<a href=\"https://colab.research.google.com/github/pranavdighade123/Data-Preprocessing-Practicals-/blob/main/DP_Practical05.ipynb\" target=\"_parent\"><img src=\"https://colab.research.google.com/assets/colab-badge.svg\" alt=\"Open In Colab\"/></a>"
      ]
    },
    {
      "cell_type": "markdown",
      "source": [
        "Title: Implement normalization on data.\n"
      ],
      "metadata": {
        "id": "qnw2RMWU1fq1"
      }
    },
    {
      "cell_type": "code",
      "execution_count": null,
      "metadata": {
        "id": "w3DZ5_QhcjbZ"
      },
      "outputs": [],
      "source": [
        "from sklearn import preprocessing\n",
        "import numpy as np"
      ]
    },
    {
      "cell_type": "code",
      "source": [
        "myarray = np.array([12,52,85,99,62,354,75])\n",
        "print(myarray)"
      ],
      "metadata": {
        "colab": {
          "base_uri": "https://localhost:8080/"
        },
        "id": "J0eQ-v02cwtc",
        "outputId": "2e9b898c-fdbe-4b39-881f-9f9f7e83eaa2"
      },
      "execution_count": null,
      "outputs": [
        {
          "output_type": "stream",
          "name": "stdout",
          "text": [
            "[ 12  52  85  99  62 354  75]\n"
          ]
        }
      ]
    },
    {
      "cell_type": "code",
      "source": [
        "a=np.random.random((1,4))\n",
        "a=a*20\n",
        "print(a)"
      ],
      "metadata": {
        "colab": {
          "base_uri": "https://localhost:8080/"
        },
        "id": "ScHEtj-gc9c-",
        "outputId": "41e985d4-caa4-44f0-dc24-3f83532cb0ab"
      },
      "execution_count": null,
      "outputs": [
        {
          "output_type": "stream",
          "name": "stdout",
          "text": [
            "[[16.90015589 16.21946436 14.55108534  8.50662238]]\n"
          ]
        }
      ]
    },
    {
      "cell_type": "code",
      "source": [
        "normalization=preprocessing.normalize([myarray])\n",
        "print(normalization)"
      ],
      "metadata": {
        "colab": {
          "base_uri": "https://localhost:8080/"
        },
        "id": "3DFYpMWReQNt",
        "outputId": "0c2dcf53-2e16-4429-bbf3-5857015487de"
      },
      "execution_count": null,
      "outputs": [
        {
          "output_type": "stream",
          "name": "stdout",
          "text": [
            "[[0.03051361 0.13222566 0.2161381  0.25173731 0.15765367 0.90015161\n",
            "  0.19071009]]\n"
          ]
        }
      ]
    },
    {
      "cell_type": "code",
      "source": [
        "normalization2=preprocessing.normalize(a)\n",
        "print(normalization2)        "
      ],
      "metadata": {
        "colab": {
          "base_uri": "https://localhost:8080/"
        },
        "id": "LYiYl7QzfZGh",
        "outputId": "616764d2-979b-43fa-eef0-72e2c2f7f7e6"
      },
      "execution_count": null,
      "outputs": [
        {
          "output_type": "stream",
          "name": "stdout",
          "text": [
            "[[0.58563198 0.56204434 0.50423091 0.29477539]]\n"
          ]
        }
      ]
    }
  ]
}